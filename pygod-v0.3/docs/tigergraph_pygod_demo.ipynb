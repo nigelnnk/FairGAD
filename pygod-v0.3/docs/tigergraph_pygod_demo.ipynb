{
 "cells": [
  {
   "source": [
    "# PyGOD Demo on TigerGraph ML Workbench\n",
    "This notebook demonstrates how to run Python Graph Outlier Detection (PyGOD) package on TigerGraph Database and TigerGraph ML workbench. Please install the TigerGraph server (https://docs.tigergraph.com/tigergraph-server/current/intro/) on your local machine or remote server first, read the data ingestion tutorial from Tigergraph (https://github.com/TigerGraph-DevLabs/mlworkbench-docs/tree/main/tutorials/basics) and download necessary data files.\n",
    "We use the Cora data for demo."
   ],
   "cell_type": "markdown",
   "metadata": {}
  },
  {
   "cell_type": "code",
   "execution_count": 3,
   "id": "4689a086-dccc-43bf-abb0-8e2c7f148890",
   "metadata": {},
   "outputs": [],
   "source": [
    "# install the following packages on your environment\n",
    "#!pip install torch\n",
    "#!pip install torch-scatter torch-sparse torch-cluster torch-spline-conv torch-geometric -f https://data.pyg.org/whl/torch-1.11.0+cpu.html\n",
    "#!pip install pyTigerGraph[gds]\n",
    "#!pip install pygod"
   ]
  },
  {
   "source": [
    "## Data Ingestion\n"
   ],
   "cell_type": "markdown",
   "metadata": {}
  },
  {
   "cell_type": "code",
   "execution_count": 3,
   "id": "4a26086b-3340-4b98-ad72-1d385e265052",
   "metadata": {},
   "outputs": [],
   "source": [
    "import pyTigerGraph as tg\n",
    "\n",
    "conn = tg.TigerGraphConnection(\n",
    "    host=\"http://127.0.0.1\", # Change the address to your database server's\n",
    "    username=\"tigergraph\",\n",
    "    password=\"tigergraph\"\n",
    ")"
   ]
  },
  {
   "cell_type": "code",
   "execution_count": 8,
   "id": "4fb432ea-2cf9-41e0-9ecd-0e74a0ef280e",
   "metadata": {},
   "outputs": [
    {
     "name": "stdout",
     "output_type": "stream",
     "text": [
      "Stopping GPE GSE RESTPP\n",
      "Successfully stopped GPE GSE RESTPP in 1.533 seconds\n",
      "Starting GPE GSE RESTPP\n",
      "Successfully started GPE GSE RESTPP in 0.090 seconds\n",
      "The graph Cora is created.\n",
      "Using graph 'Cora'\n",
      "Successfully created schema change jobs: [Cora_job].\n",
      "Kick off schema change job Cora_job\n",
      "Doing schema change on graph 'Cora' (current version: 0)\n",
      "Trying to add local vertex 'Paper' to the graph 'Cora'.\n",
      "Trying to add local edge 'Cite' to the graph 'Cora'.\n",
      "\n",
      "Graph Cora updated to new version 1\n",
      "The job Cora_job completes in 5.404 seconds!\n",
      "Using graph 'Cora'\n",
      "Successfully created loading jobs: [load_cora_data].\n"
     ]
    }
   ],
   "source": [
    "print(conn.gsql(\"CREATE GRAPH Cora()\"))\n",
    "\n",
    "conn.graphname = \"Cora\"\n",
    "# Create and run schema change job\n",
    "print(conn.gsql(open(\"./mlworkbench-docs-main/tutorials/basics/data/cora/gsql/schema.gsql\", \"r\").read()))\n",
    "\n",
    "# Create loading job\n",
    "print(conn.gsql(open(\"./mlworkbench-docs-main/tutorials/basics/data/cora/gsql/load.gsql\", \"r\").read()))"
   ]
  },
  {
   "cell_type": "code",
   "execution_count": 9,
   "id": "9f2836c1-4e6c-45ed-b197-8b24dfdb2380",
   "metadata": {},
   "outputs": [
    {
     "data": {
      "text/plain": [
       "[{'sourceFileName': 'Online_POST',\n",
       "  'statistics': {'validLine': 10556,\n",
       "   'rejectLine': 0,\n",
       "   'failedConditionLine': 0,\n",
       "   'notEnoughToken': 0,\n",
       "   'invalidJson': 0,\n",
       "   'oversizeToken': 0,\n",
       "   'vertex': [],\n",
       "   'edge': [{'typeName': 'Cite',\n",
       "     'validObject': 10556,\n",
       "     'noIdFound': 0,\n",
       "     'invalidAttribute': 0,\n",
       "     'invalidVertexType': 0,\n",
       "     'invalidPrimaryId': 0,\n",
       "     'invalidSecondaryId': 0,\n",
       "     'incorrectFixedBinaryLength': 0}],\n",
       "   'deleteVertex': [],\n",
       "   'deleteEdge': []}}]"
      ]
     },
     "execution_count": 9,
     "metadata": {},
     "output_type": "execute_result"
    }
   ],
   "source": [
    "# Load data\n",
    "conn.runLoadingJobWithFile(\"./mlworkbench-docs-main/tutorials/basics/data/cora/nodes.csv\", \"node_csv\", \"load_cora_data\")\n",
    "conn.runLoadingJobWithFile(\"./mlworkbench-docs-main/tutorials/basics/data/cora/edges.csv\", \"edge_csv\", \"load_cora_data\")"
   ]
  },
  {
   "cell_type": "markdown",
   "id": "b8d10c82-4f5f-4ec3-82c3-e6b56c833c1e",
   "metadata": {
    "tags": []
   },
   "source": [
    "## Connect to TigerGraph Database"
   ]
  },
  {
   "cell_type": "code",
   "execution_count": 10,
   "id": "5129d1a0-10e3-455b-b65a-e1603a7e9d86",
   "metadata": {},
   "outputs": [],
   "source": [
    "conn = tg.TigerGraphConnection(\n",
    "    host=\"http://127.0.0.1\", # Change the address to your database server's\n",
    "    graphname=\"Cora\",\n",
    "    username=\"tigergraph\",\n",
    "    password=\"tigergraph\",\n",
    "    useCert=False\n",
    ")"
   ]
  },
  {
   "cell_type": "markdown",
   "id": "7de7bc72-c632-49b5-b38c-7915f7a8e4a7",
   "metadata": {
    "tags": []
   },
   "source": [
    "## Install UDF"
   ]
  },
  {
   "cell_type": "code",
   "execution_count": 11,
   "id": "915ba06c-ed26-4e4a-9380-da3ed275179f",
   "metadata": {},
   "outputs": [
    {
     "name": "stdout",
     "output_type": "stream",
     "text": [
      "ExprFunctions installed succesfully\n"
     ]
    }
   ],
   "source": [
    "ExprFunctions=\"https://tg-mlworkbench.s3.us-west-1.amazonaws.com/udf/1.0/ExprFunctions.hpp\"  # For enterprise users, please use the link you received.\n",
    "ExprUtil=\"\"  # For enterprise users, please use the link you received.\n",
    "conn.installUDF(ExprFunctions, ExprUtil)"
   ]
  },
  {
   "cell_type": "code",
   "execution_count": 12,
   "id": "e7ddef40-d8ea-47f9-a30f-60f111b0ece0",
   "metadata": {},
   "outputs": [
    {
     "data": {
      "text/plain": [
       "{'Paper': 2708}"
      ]
     },
     "execution_count": 12,
     "metadata": {},
     "output_type": "execute_result"
    }
   ],
   "source": [
    "conn.getVertexCount('*')"
   ]
  },
  {
   "cell_type": "code",
   "execution_count": 13,
   "id": "3e97c3e1-3246-45a9-96e5-4ed0163c5304",
   "metadata": {},
   "outputs": [
    {
     "data": {
      "text/plain": [
       "{'Cite': 10556}"
      ]
     },
     "execution_count": 13,
     "metadata": {},
     "output_type": "execute_result"
    }
   ],
   "source": [
    "conn.getEdgeCount()"
   ]
  },
  {
   "cell_type": "markdown",
   "id": "f818ccaa-e728-480c-a5ca-fa0b36a67dd3",
   "metadata": {},
   "source": [
    "## Load the PyG Graph object from TigerGraph DB"
   ]
  },
  {
   "cell_type": "code",
   "execution_count": 14,
   "id": "4dad0de5-3207-4200-9a8e-8aa42054a27c",
   "metadata": {},
   "outputs": [
    {
     "name": "stdout",
     "output_type": "stream",
     "text": [
      "Installing and optimizing queries. It might take a minute if this is the first time you use this loader.\n",
      "Query installation finished.\n"
     ]
    }
   ],
   "source": [
    "graph_loader = conn.gds.graphLoader(\n",
    "    v_in_feats=[\"x\"],\n",
    "    v_out_labels=[\"y\"],\n",
    "    v_extra_feats=[\"train_mask\", \"val_mask\", \"test_mask\"],\n",
    "    num_batches=1,\n",
    "    output_format=\"PyG\",\n",
    "    shuffle=False\n",
    ")"
   ]
  },
  {
   "cell_type": "code",
   "execution_count": 15,
   "id": "c4207bd0-8cd6-482c-896a-26162823c226",
   "metadata": {},
   "outputs": [
    {
     "data": {
      "text/plain": [
       "Data(edge_index=[2, 10556], x=[2708, 1433], y=[2708], train_mask=[2708], val_mask=[2708], test_mask=[2708])"
      ]
     },
     "execution_count": 15,
     "metadata": {},
     "output_type": "execute_result"
    }
   ],
   "source": [
    "data = graph_loader.data\n",
    "\n",
    "data"
   ]
  },
  {
   "cell_type": "code",
   "execution_count": 16,
   "id": "a1603908-a8c3-42fa-91b1-99e68f3d6218",
   "metadata": {},
   "outputs": [],
   "source": [
    "import torch\n",
    "data.x = data.x.to(torch.float)"
   ]
  },
  {
   "cell_type": "markdown",
   "id": "de72aa7d-9fb7-43e7-a153-7d79ed8ded96",
   "metadata": {},
   "source": [
    "## Import PyGOD and Inject Outliers"
   ]
  },
  {
   "cell_type": "code",
   "execution_count": 17,
   "id": "a5755e0b-a5f9-4bc6-9f77-0053fac48ea6",
   "metadata": {},
   "outputs": [],
   "source": [
    "# train a dominant detector\n",
    "\n",
    "from pygod.generator import gen_structural_outliers, gen_contextual_outliers\n",
    "\n",
    "# data, y_outlier = gen_structural_outliers(data, 20, 5)\n",
    "data, y_outlier = gen_contextual_outliers(data, 100, 50)"
   ]
  },
  {
   "cell_type": "markdown",
   "id": "f08bed81-987a-4490-a9eb-c49c8ee543db",
   "metadata": {},
   "source": [
    "## Initialize the model"
   ]
  },
  {
   "cell_type": "code",
   "execution_count": 18,
   "id": "1b6a5cb5-72e0-4428-96d6-12889bd11308",
   "metadata": {},
   "outputs": [
    {
     "name": "stderr",
     "output_type": "stream",
     "text": [
      "/Users/dozee/mlworkbench/lib/python3.9/site-packages/pygod/utils/utility.py:52: UserWarning: The cuda is not available. Set to cpu.\n",
      "  warnings.warn('The cuda is not available. Set to cpu.')\n"
     ]
    }
   ],
   "source": [
    "from pygod.models import DOMINANT\n",
    "model = DOMINANT(num_layers=4, epoch=10, verbose=True)  # hyperparameters can be set here"
   ]
  },
  {
   "cell_type": "markdown",
   "id": "adc17921-f3b6-4bc8-ad19-3f2de9b4046e",
   "metadata": {},
   "source": [
    "## Fit the data"
   ]
  },
  {
   "cell_type": "code",
   "execution_count": 19,
   "id": "179491bb-4c66-4f3a-a228-f0a751687a51",
   "metadata": {},
   "outputs": [
    {
     "name": "stdout",
     "output_type": "stream",
     "text": [
      "Epoch 0000: Loss 4.4854 | AUC 0.5460\n",
      "Epoch 0001: Loss 11.2645 | AUC 0.5892\n",
      "Epoch 0002: Loss 2.8404 | AUC 0.6133\n",
      "Epoch 0003: Loss 2.7395 | AUC 0.6118\n",
      "Epoch 0004: Loss 2.9122 | AUC 0.6065\n",
      "Epoch 0005: Loss 2.7683 | AUC 0.6094\n",
      "Epoch 0006: Loss 2.6530 | AUC 0.6135\n",
      "Epoch 0007: Loss 2.5622 | AUC 0.6078\n",
      "Epoch 0008: Loss 2.5093 | AUC 0.6065\n",
      "Epoch 0009: Loss 2.4759 | AUC 0.6038\n"
     ]
    },
    {
     "data": {
      "text/plain": [
       "DOMINANT(act=<function relu at 0x10c860a60>, alpha=tensor(0.2518),\n",
       "     batch_size=2708, contamination=0.1, dropout=0.3, epoch=10, gpu=None,\n",
       "     hid_dim=64, lr=0.005, num_layers=4, num_neigh=-1, verbose=True,\n",
       "     weight_decay=0.0)"
      ]
     },
     "execution_count": 19,
     "metadata": {},
     "output_type": "execute_result"
    }
   ],
   "source": [
    "model.fit(data, y_outlier)  # data is a Pytorch Geometric data object"
   ]
  },
  {
   "cell_type": "markdown",
   "id": "b0aafdb2-93da-4b77-a362-e57c6bf64841",
   "metadata": {},
   "source": [
    "## Get outlier scores on the input data"
   ]
  },
  {
   "cell_type": "code",
   "execution_count": 20,
   "id": "2a5be3e5-1ec3-4fc9-a1e0-ce72e1130edb",
   "metadata": {},
   "outputs": [
    {
     "name": "stdout",
     "output_type": "stream",
     "text": [
      "[2.09913087 2.01937318 2.58339119 ... 1.40805268 1.57680655 3.41978168]\n"
     ]
    }
   ],
   "source": [
    "outlier_scores = model.decision_scores_ # raw outlier scores on the input data\n",
    "print(outlier_scores)"
   ]
  },
  {
   "cell_type": "markdown",
   "id": "5c800499-9f56-465e-8cda-3025fd1adf9f",
   "metadata": {},
   "source": [
    "## Get outlier scores on the new data"
   ]
  },
  {
   "cell_type": "code",
   "execution_count": 21,
   "id": "7e215b33-d246-4254-bf8e-0cd6139cae93",
   "metadata": {},
   "outputs": [
    {
     "name": "stdout",
     "output_type": "stream",
     "text": [
      "[2.06214285 1.99151468 2.56358337 ... 1.38927293 1.55375409 3.40630579]\n"
     ]
    }
   ],
   "source": [
    "outlier_scores = model.decision_function(data) # raw outlier scores on the input data  # predict raw outlier scores on test\n",
    "print(outlier_scores)"
   ]
  },
  {
   "cell_type": "code",
   "execution_count": null,
   "id": "fdeb294d-7ac0-44a7-945f-1e0ac8217ad1",
   "metadata": {},
   "outputs": [],
   "source": []
  }
 ],
 "metadata": {
  "kernelspec": {
   "display_name": "Tigergraph Pytorch",
   "language": "python",
   "name": "python3"
  },
  "language_info": {
   "codemirror_mode": {
    "name": "ipython",
    "version": 3
   },
   "file_extension": ".py",
   "mimetype": "text/x-python",
   "name": "python",
   "nbconvert_exporter": "python",
   "pygments_lexer": "ipython3",
   "version": "3.9.10-final"
  }
 },
 "nbformat": 4,
 "nbformat_minor": 5
}